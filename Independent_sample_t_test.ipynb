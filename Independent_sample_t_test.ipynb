{
  "nbformat": 4,
  "nbformat_minor": 0,
  "metadata": {
    "colab": {
      "provenance": []
    },
    "kernelspec": {
      "name": "python3",
      "display_name": "Python 3"
    },
    "language_info": {
      "name": "python"
    }
  },
  "cells": [
    {
      "cell_type": "markdown",
      "source": [
        "##Importing necessary libraries"
      ],
      "metadata": {
        "id": "1iWwjLUUDoHd"
      }
    },
    {
      "cell_type": "code",
      "source": [
        "from google.colab import drive\n",
        "drive.mount('/content/drive')\n",
        "import pandas as pd\n",
        "import matplotlib.pyplot as plt\n",
        "import statsmodels.api as sm\n",
        "import scipy.stats as stats"
      ],
      "metadata": {
        "id": "K9nK5xoa5UeA",
        "colab": {
          "base_uri": "https://localhost:8080/"
        },
        "outputId": "bfabb5b4-f597-4e68-d48e-7ec5cf012f5e"
      },
      "execution_count": 1,
      "outputs": [
        {
          "output_type": "stream",
          "name": "stdout",
          "text": [
            "Mounted at /content/drive\n"
          ]
        }
      ]
    },
    {
      "cell_type": "markdown",
      "source": [
        "## Load Data"
      ],
      "metadata": {
        "id": "GUSXBguKDQxw"
      }
    },
    {
      "cell_type": "code",
      "source": [
        "marketing=pd.read_csv('/content/drive/MyDrive/Data/Marketing.csv')\n",
        "print(marketing)\n",
        "marketing.info()"
      ],
      "metadata": {
        "colab": {
          "base_uri": "https://localhost:8080/"
        },
        "id": "R7sSpuK4-BiZ",
        "outputId": "b9322c8f-5252-4f29-dd6a-70dd17b26287"
      },
      "execution_count": 2,
      "outputs": [
        {
          "output_type": "stream",
          "name": "stdout",
          "text": [
            "    Method_1  Method_2\n",
            "0     115.49     80.84\n",
            "1     110.34    104.88\n",
            "2     114.31    111.82\n",
            "3     118.73     96.49\n",
            "4      92.80    116.58\n",
            "5      84.58     99.19\n",
            "6      95.47    102.05\n",
            "7     111.18    109.74\n",
            "8     100.83    101.18\n",
            "9     106.10     85.52\n",
            "10    112.41    100.54\n",
            "11     99.98     87.51\n",
            "12     89.42    100.88\n",
            "13     82.75    101.19\n",
            "14     74.20    105.19\n",
            "15     93.93     84.48\n",
            "16    107.97    106.69\n",
            "17    100.97    106.83\n",
            "18    112.07     88.39\n",
            "19    119.87    113.55\n",
            "20    107.54    102.74\n",
            "21     89.45     84.74\n",
            "22    128.52     92.49\n",
            "23    106.18     84.14\n",
            "24    116.38     91.56\n",
            "25     93.12     98.26\n",
            "26    106.29     98.86\n",
            "27     88.62    106.54\n",
            "28    121.07     90.65\n",
            "29    108.52    105.62\n",
            "30     96.69       NaN\n",
            "31    113.65       NaN\n",
            "32     91.51       NaN\n",
            "33    103.75       NaN\n",
            "34     95.70       NaN\n",
            "35    116.16       NaN\n",
            "36    115.19       NaN\n",
            "37    111.04       NaN\n",
            "38     88.53       NaN\n",
            "<class 'pandas.core.frame.DataFrame'>\n",
            "RangeIndex: 39 entries, 0 to 38\n",
            "Data columns (total 2 columns):\n",
            " #   Column    Non-Null Count  Dtype  \n",
            "---  ------    --------------  -----  \n",
            " 0   Method_1  39 non-null     float64\n",
            " 1   Method_2  30 non-null     float64\n",
            "dtypes: float64(2)\n",
            "memory usage: 752.0 bytes\n"
          ]
        }
      ]
    },
    {
      "cell_type": "markdown",
      "source": [
        "Since Method_2 has some NAN values, so storing numerical values of two different methods in two different variables"
      ],
      "metadata": {
        "id": "pOEQzLEMDetg"
      }
    },
    {
      "cell_type": "code",
      "source": [
        "M1=marketing['Method_1']\n",
        "M2=marketing['Method_2'][0:30]\n",
        "print(M1,M2)"
      ],
      "metadata": {
        "id": "vrvxRMNwBA8H",
        "colab": {
          "base_uri": "https://localhost:8080/"
        },
        "outputId": "df4d9b15-8a50-45db-ef2f-a10e94b53e07"
      },
      "execution_count": 11,
      "outputs": [
        {
          "output_type": "stream",
          "name": "stdout",
          "text": [
            "0     115.49\n",
            "1     110.34\n",
            "2     114.31\n",
            "3     118.73\n",
            "4      92.80\n",
            "5      84.58\n",
            "6      95.47\n",
            "7     111.18\n",
            "8     100.83\n",
            "9     106.10\n",
            "10    112.41\n",
            "11     99.98\n",
            "12     89.42\n",
            "13     82.75\n",
            "14     74.20\n",
            "15     93.93\n",
            "16    107.97\n",
            "17    100.97\n",
            "18    112.07\n",
            "19    119.87\n",
            "20    107.54\n",
            "21     89.45\n",
            "22    128.52\n",
            "23    106.18\n",
            "24    116.38\n",
            "25     93.12\n",
            "26    106.29\n",
            "27     88.62\n",
            "28    121.07\n",
            "29    108.52\n",
            "30     96.69\n",
            "31    113.65\n",
            "32     91.51\n",
            "33    103.75\n",
            "34     95.70\n",
            "35    116.16\n",
            "36    115.19\n",
            "37    111.04\n",
            "38     88.53\n",
            "Name: Method_1, dtype: float64 0      80.84\n",
            "1     104.88\n",
            "2     111.82\n",
            "3      96.49\n",
            "4     116.58\n",
            "5      99.19\n",
            "6     102.05\n",
            "7     109.74\n",
            "8     101.18\n",
            "9      85.52\n",
            "10    100.54\n",
            "11     87.51\n",
            "12    100.88\n",
            "13    101.19\n",
            "14    105.19\n",
            "15     84.48\n",
            "16    106.69\n",
            "17    106.83\n",
            "18     88.39\n",
            "19    113.55\n",
            "20    102.74\n",
            "21     84.74\n",
            "22     92.49\n",
            "23     84.14\n",
            "24     91.56\n",
            "25     98.26\n",
            "26     98.86\n",
            "27    106.54\n",
            "28     90.65\n",
            "29    105.62\n",
            "Name: Method_2, dtype: float64\n"
          ]
        }
      ]
    },
    {
      "cell_type": "markdown",
      "source": [
        "##Assumptions"
      ],
      "metadata": {
        "id": "bculH-Dd9LIh"
      }
    },
    {
      "cell_type": "markdown",
      "source": [
        "####1. Independent samples"
      ],
      "metadata": {
        "id": "aTVSmgyOCY61"
      }
    },
    {
      "cell_type": "markdown",
      "source": [
        "Since both the methods are applied in two different accounts, so they are independent with each other"
      ],
      "metadata": {
        "id": "_Gu95P6PCnPL"
      }
    },
    {
      "cell_type": "markdown",
      "source": [
        "####2. Outliers"
      ],
      "metadata": {
        "id": "VuxGKOYf9OYU"
      }
    },
    {
      "cell_type": "code",
      "source": [
        "marketing.plot.box()"
      ],
      "metadata": {
        "colab": {
          "base_uri": "https://localhost:8080/",
          "height": 338
        },
        "id": "_Ru6IUVN6Tf7",
        "outputId": "13971270-cbf8-4e2d-bf1c-a92fc8a8a032"
      },
      "execution_count": 4,
      "outputs": [
        {
          "output_type": "stream",
          "name": "stderr",
          "text": [
            "/usr/local/lib/python3.8/dist-packages/matplotlib/cbook/__init__.py:1376: VisibleDeprecationWarning: Creating an ndarray from ragged nested sequences (which is a list-or-tuple of lists-or-tuples-or ndarrays with different lengths or shapes) is deprecated. If you meant to do this, you must specify 'dtype=object' when creating the ndarray.\n",
            "  X = np.atleast_1d(X.T if isinstance(X, np.ndarray) else np.asarray(X))\n"
          ]
        },
        {
          "output_type": "execute_result",
          "data": {
            "text/plain": [
              "<matplotlib.axes._subplots.AxesSubplot at 0x7f0fcf4df100>"
            ]
          },
          "metadata": {},
          "execution_count": 4
        },
        {
          "output_type": "display_data",
          "data": {
            "text/plain": [
              "<Figure size 432x288 with 1 Axes>"
            ],
            "image/png": "[encoded data removed]"
          },
          "metadata": {
            "needs_background": "light"
          }
        }
      ]
    },
    {
      "cell_type": "markdown",
      "source": [
        "There seems to be no outliers from the two boxplots"
      ],
      "metadata": {
        "id": "HLJsnTnD82aV"
      }
    },
    {
      "cell_type": "markdown",
      "source": [
        "#### 3. Normality of data"
      ],
      "metadata": {
        "id": "ridd7-t_9SCK"
      }
    },
    {
      "cell_type": "markdown",
      "source": [
        "##### Method 1: Q-Q Plot"
      ],
      "metadata": {
        "id": "Uc6HGy6RHK7X"
      }
    },
    {
      "cell_type": "code",
      "source": [
        "fig, axes=plt.subplots(nrows=1,ncols=2,figsize=(12,5),squeeze=False)\n",
        "M1_QQ=sm.qqplot(M1,stats.norm,fit=True,line='45',ax=axes[0,0])\n",
        "M2_QQ=sm.qqplot(M2,stats.norm,fit=True,line='45',ax=axes[0,1])\n",
        "\n",
        "axes[0, 0].set_title(\"Method 1\")\n",
        "axes[0, 1].set_title(\"Method 2\")\n",
        "plt.show()"
      ],
      "metadata": {
        "colab": {
          "base_uri": "https://localhost:8080/",
          "height": 350
        },
        "id": "ZLyiJ14Z27gn",
        "outputId": "4aa468e9-f059-44d6-f846-07af53d1dafc"
      },
      "execution_count": 5,
      "outputs": [
        {
          "output_type": "display_data",
          "data": {
            "text/plain": [
              "<Figure size 864x360 with 2 Axes>"
            ],
            "image/png": "[encoded data removed]"
          },
          "metadata": {
            "needs_background": "light"
          }
        }
      ]
    },
    {
      "cell_type": "markdown",
      "source": [
        "From the Q-Q plot we can conclude that data is fairly normally distributed"
      ],
      "metadata": {
        "id": "W1iAzbNoCIrg"
      }
    },
    {
      "cell_type": "markdown",
      "source": [
        "##### **Method 2: Shapiro-Wilk Test**\n",
        "\n",
        "Null Hypothesis(Ho): Population has a normal distribution\n",
        "\n",
        "Alternative Hypothesis: Population does not have a normal distribution"
      ],
      "metadata": {
        "id": "Sp9k1H0VHTgQ"
      }
    },
    {
      "cell_type": "code",
      "source": [
        "s1,p1=stats.shapiro(M1)\n",
        "print('For Method 1 Data, test statistic is %.4f and p-value is %.4f'%(s1,p1))\n",
        "s2,p2=stats.shapiro(M2)\n",
        "print('For Method 2 Data, test statistic is %.4f and p-value is %.4f'%(s2,p2))"
      ],
      "metadata": {
        "colab": {
          "base_uri": "https://localhost:8080/"
        },
        "id": "c8CrEzBjz5OX",
        "outputId": "78de0b61-6fcc-4cc7-9848-f7040ea7204f"
      },
      "execution_count": 6,
      "outputs": [
        {
          "output_type": "stream",
          "name": "stdout",
          "text": [
            "For Method 1 Data, test statistic is 0.9755 and p-value is 0.5434\n",
            "For Method 2 Data, test statistic is 0.9606 and p-value is 0.3203\n"
          ]
        }
      ]
    },
    {
      "cell_type": "markdown",
      "source": [
        "For both the data, p-value is greater than 0.05, so we do not reject null hypothesis at 5% level of significance and conclude that both are normally distributed"
      ],
      "metadata": {
        "id": "lUfi-BsLJzoZ"
      }
    },
    {
      "cell_type": "markdown",
      "source": [
        "#### 4. Equality of Variance\n"
      ],
      "metadata": {
        "id": "uoIQpTKt3d6v"
      }
    },
    {
      "cell_type": "markdown",
      "source": [
        "##### **Levene Test**\n",
        "Null Hypothesis(Ho): Variance of data of both the methods are equal\n",
        "\n",
        "Alternative Hypothesis (H1): Variance of data of both the methods are not equal"
      ],
      "metadata": {
        "id": "PbnUMET8LIMl"
      }
    },
    {
      "cell_type": "code",
      "source": [
        "l,p=stats.levene(M1,M2)\n",
        "print('The test statistic is %.4f and p-value is %.4f'%(l,p))"
      ],
      "metadata": {
        "colab": {
          "base_uri": "https://localhost:8080/"
        },
        "id": "0vV1XXmk1iTj",
        "outputId": "ae11ecd5-3d7a-43cb-bbfa-9de1d53159db"
      },
      "execution_count": 7,
      "outputs": [
        {
          "output_type": "stream",
          "name": "stdout",
          "text": [
            "The test statistic is 2.3244 and p-value is 0.1321\n"
          ]
        }
      ]
    },
    {
      "cell_type": "markdown",
      "source": [
        "Since p value is greater than 0.05, so we do not reject the null at 5% level of significance. Hence we conclude that the variance of data of both the genders are equal, so we can proceed with independent sample t-test\n",
        "\n",
        "Note: In case of unequal variance, we should prefer Welch t test instead of independent t test."
      ],
      "metadata": {
        "id": "oT46ioagMIzJ"
      }
    },
    {
      "cell_type": "markdown",
      "source": [
        "##Independent Sample t-test"
      ],
      "metadata": {
        "id": "21XwEySe5EAH"
      }
    },
    {
      "cell_type": "markdown",
      "source": [
        "Null Hypothesis(Ho): The population means of impression from Method 1 and Method 2 are equal. i.e. Ho: μ1=μ2 \n",
        "\n",
        "Alternative Hypothesis(H1): The population mean of impression from Method 1 is greater than Method 2. i.e. H1: μ1 > μ2\n",
        "\n",
        "\n",
        "LeveL of significance(α): Let us test the hypothesis at 5% level of significance i.e. α=0.05\n",
        "\n",
        "Decision Rule: If p-value<0.05 we reject the null hypothesis and if p-value>0.05 we do not reject the null hypothesis"
      ],
      "metadata": {
        "id": "54H-MCikN9z9"
      }
    },
    {
      "cell_type": "code",
      "source": [
        "t,p=stats.ttest_ind(M1,M2,alternative='greater')\n",
        "print('The test statistic is %.4f and p-value is %.4f'%(t,p))"
      ],
      "metadata": {
        "colab": {
          "base_uri": "https://localhost:8080/"
        },
        "id": "bGOt2xGk6Yk2",
        "outputId": "9f5deea0-a02d-4e04-a7e1-efc67afe63f6"
      },
      "execution_count": 13,
      "outputs": [
        {
          "output_type": "stream",
          "name": "stdout",
          "text": [
            "The test statistic is 1.8229 and p-value is 0.0364\n"
          ]
        }
      ]
    },
    {
      "cell_type": "markdown",
      "source": [
        "Since p-value is less than 0.05 i.e. 0.0364<0.05, so we reject the null hypothesis at 5% level of significance and conclude that mean impression from Method 1 is significantly greater than mean impression from Method 2."
      ],
      "metadata": {
        "id": "gxDgkAIzQ6RM"
      }
    }
  ]
}
